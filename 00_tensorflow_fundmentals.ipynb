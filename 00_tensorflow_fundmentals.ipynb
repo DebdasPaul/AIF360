{
  "nbformat": 4,
  "nbformat_minor": 0,
  "metadata": {
    "colab": {
      "provenance": [],
      "authorship_tag": "ABX9TyNWyXYErRg7m8xLqG7/YlVu",
      "include_colab_link": true
    },
    "kernelspec": {
      "name": "python3",
      "display_name": "Python 3"
    },
    "language_info": {
      "name": "python"
    }
  },
  "cells": [
    {
      "cell_type": "markdown",
      "metadata": {
        "id": "view-in-github",
        "colab_type": "text"
      },
      "source": [
        "<a href=\"https://colab.research.google.com/github/DebdasPaul/AIF360/blob/main/00_tensorflow_fundmentals.ipynb\" target=\"_parent\"><img src=\"https://colab.research.google.com/assets/colab-badge.svg\" alt=\"Open In Colab\"/></a>"
      ]
    },
    {
      "cell_type": "markdown",
      "source": [],
      "metadata": {
        "id": "ftYDgZvXuCRl"
      }
    },
    {
      "cell_type": "markdown",
      "source": [
        "# In this notebook we are going to cover some of the most fundamental concepts of tensorflow\n",
        "\n",
        "More specifically, we are going to cover\n",
        "\n",
        "* introduction to tensors\n",
        "* Getting information from tensors\n",
        "* Manipulating tensors\n",
        "* tensors & Numpy\n",
        "* Using @tf.function (a way to speed up python functions)\n",
        "* Using GPUs with Tensorflow (or TPUs)\n",
        "* Exercises\n"
      ],
      "metadata": {
        "id": "YVaf5WOTuFHL"
      }
    },
    {
      "cell_type": "markdown",
      "source": [
        "# Introduction to Tensors"
      ],
      "metadata": {
        "id": "glp5tcvlvjHN"
      }
    },
    {
      "cell_type": "code",
      "source": [],
      "metadata": {
        "id": "c2SqHNO_uA1-"
      },
      "execution_count": null,
      "outputs": []
    }
  ]
}